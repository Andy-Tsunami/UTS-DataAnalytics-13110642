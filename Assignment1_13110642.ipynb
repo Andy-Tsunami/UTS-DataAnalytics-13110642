{
  "nbformat": 4,
  "nbformat_minor": 0,
  "metadata": {
    "colab": {
      "name": "Assignment1-13110642.ipynb",
      "version": "0.3.2",
      "provenance": [],
      "include_colab_link": true
    },
    "kernelspec": {
      "name": "python3",
      "display_name": "Python 3"
    }
  },
  "cells": [
    {
      "cell_type": "markdown",
      "metadata": {
        "id": "view-in-github",
        "colab_type": "text"
      },
      "source": [
        "<a href=\"https://colab.research.google.com/github/Andy-Tsunami/UTS-DataAnalytics-13110642/blob/master/Assignment1_13110642.ipynb\" target=\"_parent\"><img src=\"https://colab.research.google.com/assets/colab-badge.svg\" alt=\"Open In Colab\"/></a>"
      ]
    },
    {
      "cell_type": "markdown",
      "metadata": {
        "id": "ngXiyuw2TJTb",
        "colab_type": "text"
      },
      "source": [
        "# Review Report on Generative Adversarial Nets"
      ]
    },
    {
      "cell_type": "markdown",
      "metadata": {
        "id": "8wEMkkzxhvXz",
        "colab_type": "text"
      },
      "source": [
        "##Introduction\n",
        "This report will discuss the\n",
        "\n"
      ]
    },
    {
      "cell_type": "markdown",
      "metadata": {
        "id": "xo8OSd2XiA2I",
        "colab_type": "text"
      },
      "source": [
        "##Content\n",
        "The paper Generative Adversarial Nets (Goodfellow et al. 2014) proposed a new concept where a sample is taken to train two models together which then compete against each other. The first model known as discriminative model D does everything it can to increase the chance of the second model; generative model G of making a mistake and vice versa. By doing so both models continuously improve until they make a near identical match to the origin of where the sample came from. \n",
        ">\n",
        "To prove the framework was successful, the authors pass random noise through a multilayer perceptron; i.e. an algorithm for both the generative model and discriminative model. The algorithm used is shown below:\n",
        ">\n",
        "$$\\min\\limits_{G}\\max\\limits_{D}V(D,G)=E_{x\\sim p_{data}(x)}[logD(x)]+E_{z\\sim p_{z}(z)}[log(1-D(G(z)))]$$\n",
        "\n",
        ">\n",
        "One dataset they tested the framework on was the Toronto Face Database in which the generator was able to generate samples as shown in the figure below\n",
        "\n",
        "<img scr=\"https://github.com/Andy-Tsunami/UTS-DataAnalytics-13110642/blob/master/TFD.jpg?raw=true\" width=\"100\"/>  \n"
      ]
    },
    {
      "cell_type": "markdown",
      "metadata": {
        "id": "sG4KNDM_iFX2",
        "colab_type": "text"
      },
      "source": [
        "##Innovation"
      ]
    },
    {
      "cell_type": "markdown",
      "metadata": {
        "id": "VIRD-ptdiHZX",
        "colab_type": "text"
      },
      "source": [
        "##Technial Quality\n",
        "\n"
      ]
    },
    {
      "cell_type": "markdown",
      "metadata": {
        "id": "dBa1k9NyiJon",
        "colab_type": "text"
      },
      "source": [
        "##Application and X-Factor"
      ]
    },
    {
      "cell_type": "markdown",
      "metadata": {
        "id": "FCM_4cP6iMmM",
        "colab_type": "text"
      },
      "source": [
        "##Presentation"
      ]
    },
    {
      "cell_type": "markdown",
      "metadata": {
        "id": "kR2Lm5qQiPDc",
        "colab_type": "text"
      },
      "source": [
        "##References"
      ]
    }
  ]
}