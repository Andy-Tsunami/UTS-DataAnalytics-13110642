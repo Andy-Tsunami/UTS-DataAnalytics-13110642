{
  "nbformat": 4,
  "nbformat_minor": 0,
  "metadata": {
    "colab": {
      "name": "Assignment3-13110642.ipynb",
      "provenance": [],
      "include_colab_link": true
    },
    "kernelspec": {
      "name": "python3",
      "display_name": "Python 3"
    }
  },
  "cells": [
    {
      "cell_type": "markdown",
      "metadata": {
        "id": "view-in-github",
        "colab_type": "text"
      },
      "source": [
        "<a href=\"https://colab.research.google.com/github/Andy-Tsunami/UTS-DataAnalytics-13110642/blob/master/Assignment3_13110642.ipynb\" target=\"_parent\"><img src=\"https://colab.research.google.com/assets/colab-badge.svg\" alt=\"Open In Colab\"/></a>"
      ]
    },
    {
      "cell_type": "markdown",
      "metadata": {
        "id": "lgTB4eXD5EqD",
        "colab_type": "text"
      },
      "source": [
        "# 32513 Machine Learning\n",
        "Assignment 3\n",
        "\n",
        "Andy Tsui - 13110642"
      ]
    },
    {
      "cell_type": "markdown",
      "metadata": {
        "id": "Dz_dL53Z4z71",
        "colab_type": "text"
      },
      "source": [
        "# Reducing Aircraft Technical Delays through Predictive Data Analytics.\n",
        "\n"
      ]
    },
    {
      "cell_type": "markdown",
      "metadata": {
        "id": "97a4HBh15DUM",
        "colab_type": "text"
      },
      "source": [
        "##Aims\n",
        "The aim of this project is to propose using predictive data analytics to determine when aircraft are likely to have a technical issue and to provide recommondations to have the issue rectified without impacting operations. The objectives of this is to:\n",
        "\n",
        "•\tReduce flight delays or cancellations due to aircraft technical issues.\n",
        "\n",
        "•\tReduce costs to airlines associated with flight delays.\n",
        "\n",
        "•\tImprove overall safety of aircraft and airlines.\n"
      ]
    },
    {
      "cell_type": "markdown",
      "metadata": {
        "id": "zekNmst05Yn9",
        "colab_type": "text"
      },
      "source": [
        "##Background\n",
        "The term ‘on time performance’ (OTP)  is used in aviation to define when a flight arrives or departs within 15 minutes of its scheduled arrival or departure (Department of Infrastructure Transport Cities and Regional Development 2019). Delays are when the flight arrives or departs greater than 15 minutes of its scheduled time. In the 2019 financial year, Australian airlines in total had an overall arrival OTP of 79.4% and a departure OTP of 80.6% (Department of Infrastructure Transport Cities and Regional Development 2019). 2.1% of Australian airline flights were cancelled which equates to 11575 flights (Department of Infrastructure Transport Cities and Regional Development 2019). \n",
        "\n",
        "Flight delays and cancellations are unfortunately a common and inevitable issue for airlines and its passengers. They can be caused by various issues, but some of the reasons are due to bird strikes, adverse weather and mechanical issues (Busson 2019). Each year the cost of delays to the airline industry exceed \\$US8 billion, while also costing passengers worldwide more than double this amount of \\$US17 billion (The Associated Press 2014). It is near impossible to prevent bird strikes and adverse weather as these occur naturally, however for mechanical issues this is an issue that could potentially be reduced in causing delays and cancellations.\n",
        "\n",
        "Airlines have already begun to recognise the potential of data science and how it can be used to make improvements to its business and daily operations. One such way is through aircraft maintenance. The idea has been proposed by the International Air Transport Association (IATA) and backed by various airlines to use data science to assist in the maintenance of aircraft (Goudarzi 2019). This use of data science on aircraft maintenance has been termed Aircraft Health Monitoring (AHM) which collects and analyses data to determine what type of maintenance and when aircraft maintenance should be undertaken (Goudarzi 2019). Though the concept and potential of AHM has been positively recognised and noticed as a game changer, it has not reached the stages of being common practice amongst airlines due to various issues; the main one being the willingness of the various airlines and the aircraft producer to openly share their flight and maintenance data with one another which could potentially reduce a company’s competitive advantage (Taylor 2019).\n"
      ]
    },
    {
      "cell_type": "markdown",
      "metadata": {
        "id": "cPUE8hRu6Q5v",
        "colab_type": "text"
      },
      "source": [
        "##Research Project\n",
        "AHM concept can be compared to the way humans use systems to monitor their vitals such as tracking blood pressure, heart rate, temperature and weight (Goudarzi 2019). In AHM, the “vitals” of an aircraft that would be monitored would be flight hours, flight cycles, engine cycles, temperatures and vibrations (Goudarzi 2019) This project proposes to further utilise the concept of AHM in the maintenance of aircraft by providing an airline with a fleet wide overview of all its aircraft. By using historical technical data and comparing it to live data, it will be able to predict and calculate when maintenance on an aircraft needs to be done, so that the maintenance on certain parts of an aircraft can be scheduled in without affecting flights or operations; i.e. overnight or during scheduled maintenance. *Figure 1* below shows an example of what the user interface would show. Each aircraft that the airline owns would be displayed and indicate a status. Green would indicate no issues, amber indicating maintenance is recommended, and red indicates maintenance is required.\n",
        "<br>\n",
        "\n",
        "<img align=\"center\" src=\"https://github.com/Andy-Tsunami/UTS-DataAnalytics-13110642/blob/master/Fleet.jpg?raw=true\"/>\n",
        "\n",
        "*Figure 1 - Example of the user interface to check fleet status*\n",
        "<br><br><br>\n",
        "This project would in no way replace the scheduled maintenance or current procedures of how airlines maintain aircraft, but instead provide an early warning of potential issues so that they can plan additional maintenance of aircraft at times that do no affect flight schedules or operations; e.g. when the aircraft is located at a port with maintenance facilities or when the aircraft is not operating for a long period of time.\n",
        "\n",
        "Once approved, the project can be achieved under one year and *Figure 2* below shows an approximate timeline of the required tasks.\n",
        "\n",
        "<img align=\"center\" src=\"https://github.com/Andy-Tsunami/UTS-DataAnalytics-13110642/blob/master/Gantt.jpg?raw=true\"/>\n",
        "\n",
        "*Figure 2* - Gannt chart of project timeline\n",
        "\n"
      ]
    },
    {
      "cell_type": "markdown",
      "metadata": {
        "id": "ZiqajP398pKI",
        "colab_type": "text"
      },
      "source": [
        "##Budget\n",
        "A budget for the project is shown in *Table 1* below:\n",
        "\n",
        "Item|Cost\n",
        "---|---\n",
        "Personnel|\\$220,000\n",
        "Equipment/Hardware|\\$30,000\n",
        "Software|\\$5,000\n",
        "Training supplies|\\$5,000\n",
        "Total|\\$260,000\n",
        "*Table 1 - Budget*\n",
        "\n"
      ]
    },
    {
      "cell_type": "markdown",
      "metadata": {
        "id": "hsVP9qcf9uBT",
        "colab_type": "text"
      },
      "source": [
        "##Personnel\n",
        "The project will require a data scientist, network engineer and a project manager. A project sponsor will be required to allow the project to proceed along with project stakeholders. \n",
        "<br><br>\n",
        "The project manager will be responsible for:\n",
        "\n",
        "•\tOverseeing the project to ensure it is completed within the given timeframe and budget.\n",
        "\n",
        "•\tGather scope and requirements.\n",
        "\n",
        "•\tCommunicate with the project sponsor and stakeholders to provide regular updates and progress reports.\n",
        "<br><br>\n",
        "The data scientist will be responsible for:\n",
        "\n",
        "•\tBuilding & testing the data model.\n",
        "\n",
        "•\tProvide training on how to use the model.\n",
        "<br><br>\n",
        "The network engineer will be responsible for:\n",
        "\n",
        "•\tSetting up hardware\n",
        "\n",
        "•\tCreating the test environment.\n",
        "\n",
        "•\tConnecting the data model to the airline network and live aircraft feeds.\n",
        "\n",
        "<br>\n",
        "The project sponsor and stakeholders will not be included in the budget or project team as they will be used to obtain the scope and gather requirements of the project. The stakeholders would presumably come from various departments of the airline and the project sponsor would either be the executive manager of aircraft maintenance or the CEO of the airline.\n",
        "\n"
      ]
    },
    {
      "cell_type": "markdown",
      "metadata": {
        "id": "KdIUGuNK-IuJ",
        "colab_type": "text"
      },
      "source": [
        "##References\n",
        "Busson, T. 2019, 'Why is My Flight Delayed? The 20 Main Reasons for Flight Delays', Claim Compass, viewed 7/10/2019, <https://www.claimcompass.eu/blog/why-is-my-flight-delayed/>.\n",
        "\n",
        "Department of Infrastructure Transport Cities and Regional Development 2019, Domestic airline on time performance 2018-19, Bureau of Infrastructure, Transport and Regional Economics.\n",
        "\n",
        "Goudarzi, H. 2019, Data Science Hype or Ripe for Aviation, International Air Transport Associatio.\n",
        "Taylor, E.W., Greg 2019, 'ANALYSIS: Five key themes for Big Data in aerospace', Flight Global, viewed 7/10/2019\n",
        "<https://www.flightglobal.com/news/articles/analysis-five-key-themes-for-big-data-in-aerospace-456869/>.\n",
        "\n",
        "The Associated Press 2014, 'Flight delays are costing airlines serious money', Mashable Australia, viewed 07/10/2019, <https://mashable.com/2014/12/10/cost-of-delayed-flights/>.\n"
      ]
    },
    {
      "cell_type": "markdown",
      "metadata": {
        "id": "UvZfL9GG-jqR",
        "colab_type": "text"
      },
      "source": [
        "##Video Pitch\n"
      ]
    }
  ]
}