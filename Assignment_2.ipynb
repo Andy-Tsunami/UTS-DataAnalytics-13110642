{
  "nbformat": 4,
  "nbformat_minor": 0,
  "metadata": {
    "colab": {
      "name": "Assignment 2.ipynb",
      "provenance": [],
      "include_colab_link": true
    },
    "kernelspec": {
      "name": "python3",
      "display_name": "Python 3"
    }
  },
  "cells": [
    {
      "cell_type": "markdown",
      "metadata": {
        "id": "view-in-github",
        "colab_type": "text"
      },
      "source": [
        "<a href=\"https://colab.research.google.com/github/Andy-Tsunami/UTS-DataAnalytics-13110642/blob/master/Assignment_2.ipynb\" target=\"_parent\"><img src=\"https://colab.research.google.com/assets/colab-badge.svg\" alt=\"Open In Colab\"/></a>"
      ]
    },
    {
      "cell_type": "code",
      "metadata": {
        "id": "qeSnV1eAX74j",
        "colab_type": "code",
        "colab": {}
      },
      "source": [
        "import pandas as pd\n",
        "import datetime"
      ],
      "execution_count": 0,
      "outputs": []
    },
    {
      "cell_type": "code",
      "metadata": {
        "id": "xK0USq4waP6-",
        "colab_type": "code",
        "colab": {}
      },
      "source": [
        "url = 'https://raw.githubusercontent.com/Andy-Tsunami/UTS-DataAnalytics-13110642/master/DEPARTURES.csv'\n",
        "df1 = pd.read_csv(url)\n",
        "# Dataset is now stored in a Pandas Dataframe"
      ],
      "execution_count": 0,
      "outputs": []
    },
    {
      "cell_type": "code",
      "metadata": {
        "id": "MU8pMYzdfesB",
        "colab_type": "code",
        "outputId": "f4668e15-f5c2-45dd-e467-2a7c22f925a7",
        "colab": {
          "base_uri": "https://localhost:8080/",
          "height": 292
        }
      },
      "source": [
        "df1.head()"
      ],
      "execution_count": 0,
      "outputs": [
        {
          "output_type": "execute_result",
          "data": {
            "text/html": [
              "<div>\n",
              "<style scoped>\n",
              "    .dataframe tbody tr th:only-of-type {\n",
              "        vertical-align: middle;\n",
              "    }\n",
              "\n",
              "    .dataframe tbody tr th {\n",
              "        vertical-align: top;\n",
              "    }\n",
              "\n",
              "    .dataframe thead th {\n",
              "        text-align: right;\n",
              "    }\n",
              "</style>\n",
              "<table border=\"1\" class=\"dataframe\">\n",
              "  <thead>\n",
              "    <tr style=\"text-align: right;\">\n",
              "      <th></th>\n",
              "      <th>Flight No</th>\n",
              "      <th>Callsign</th>\n",
              "      <th>Origins</th>\n",
              "      <th>Airports</th>\n",
              "      <th>Int/Dom</th>\n",
              "      <th>FltTyp</th>\n",
              "      <th>Date</th>\n",
              "      <th>Sched Time</th>\n",
              "      <th>Est Date</th>\n",
              "      <th>Est Time</th>\n",
              "      <th>COBT_EST DATETIME</th>\n",
              "      <th>Off Chks Date</th>\n",
              "      <th>OFF BLOCK</th>\n",
              "      <th>Act Date</th>\n",
              "      <th>Act Time</th>\n",
              "      <th>PROV TOTAL PAX</th>\n",
              "      <th>Regn</th>\n",
              "      <th>AC TYPE</th>\n",
              "      <th>STATUS</th>\n",
              "      <th>Public</th>\n",
              "      <th>Terminal</th>\n",
              "      <th>STAND</th>\n",
              "      <th>Position</th>\n",
              "      <th>Gate</th>\n",
              "      <th>Avail. Desks</th>\n",
              "      <th>Cancel Date</th>\n",
              "    </tr>\n",
              "  </thead>\n",
              "  <tbody>\n",
              "    <tr>\n",
              "      <th>0</th>\n",
              "      <td>QF7405</td>\n",
              "      <td>JTE7405</td>\n",
              "      <td>Melbourne</td>\n",
              "      <td>MEL</td>\n",
              "      <td>I</td>\n",
              "      <td>F</td>\n",
              "      <td>1/05/2019</td>\n",
              "      <td>0:25</td>\n",
              "      <td>NaN</td>\n",
              "      <td>NaN</td>\n",
              "      <td>NaN</td>\n",
              "      <td>NaN</td>\n",
              "      <td>NaN</td>\n",
              "      <td>1/05/2019</td>\n",
              "      <td>0:01</td>\n",
              "      <td>0</td>\n",
              "      <td>VHNJM</td>\n",
              "      <td>14Z</td>\n",
              "      <td>C</td>\n",
              "      <td>N</td>\n",
              "      <td>T1</td>\n",
              "      <td>NaN</td>\n",
              "      <td>NaN</td>\n",
              "      <td>NaN</td>\n",
              "      <td>NaN</td>\n",
              "      <td>1/05/2019</td>\n",
              "    </tr>\n",
              "    <tr>\n",
              "      <th>1</th>\n",
              "      <td>EK415</td>\n",
              "      <td>UAE8JH</td>\n",
              "      <td>Dubai</td>\n",
              "      <td>DXB</td>\n",
              "      <td>I</td>\n",
              "      <td>J</td>\n",
              "      <td>1/05/2019</td>\n",
              "      <td>6:00</td>\n",
              "      <td>NaN</td>\n",
              "      <td>NaN</td>\n",
              "      <td>NaN</td>\n",
              "      <td>1/05/2019</td>\n",
              "      <td>5:53</td>\n",
              "      <td>1/05/2019</td>\n",
              "      <td>6:13</td>\n",
              "      <td>436</td>\n",
              "      <td>A6EDD</td>\n",
              "      <td>388</td>\n",
              "      <td>A</td>\n",
              "      <td>N</td>\n",
              "      <td>T1</td>\n",
              "      <td>57</td>\n",
              "      <td>NaN</td>\n",
              "      <td>57</td>\n",
              "      <td>E1-E12</td>\n",
              "      <td>ES2-ES4</td>\n",
              "    </tr>\n",
              "    <tr>\n",
              "      <th>2</th>\n",
              "      <td>FJ914</td>\n",
              "      <td>FJI914</td>\n",
              "      <td>Nadi</td>\n",
              "      <td>NAN</td>\n",
              "      <td>I</td>\n",
              "      <td>J</td>\n",
              "      <td>1/05/2019</td>\n",
              "      <td>6:15</td>\n",
              "      <td>NaN</td>\n",
              "      <td>NaN</td>\n",
              "      <td>NaN</td>\n",
              "      <td>1/05/2019</td>\n",
              "      <td>6:07</td>\n",
              "      <td>1/05/2019</td>\n",
              "      <td>6:22</td>\n",
              "      <td>168</td>\n",
              "      <td>DQFJG</td>\n",
              "      <td>73H</td>\n",
              "      <td>A</td>\n",
              "      <td>N</td>\n",
              "      <td>T1</td>\n",
              "      <td>37</td>\n",
              "      <td>NaN</td>\n",
              "      <td>37</td>\n",
              "      <td>A13-A16</td>\n",
              "      <td>AS5</td>\n",
              "    </tr>\n",
              "    <tr>\n",
              "      <th>3</th>\n",
              "      <td>QF141</td>\n",
              "      <td>QFA141</td>\n",
              "      <td>Auckland</td>\n",
              "      <td>AKL</td>\n",
              "      <td>I</td>\n",
              "      <td>J</td>\n",
              "      <td>1/05/2019</td>\n",
              "      <td>7:10</td>\n",
              "      <td>NaN</td>\n",
              "      <td>NaN</td>\n",
              "      <td>NaN</td>\n",
              "      <td>1/05/2019</td>\n",
              "      <td>7:23</td>\n",
              "      <td>1/05/2019</td>\n",
              "      <td>7:45</td>\n",
              "      <td>169</td>\n",
              "      <td>VHVZG</td>\n",
              "      <td>738</td>\n",
              "      <td>A</td>\n",
              "      <td>N</td>\n",
              "      <td>T1</td>\n",
              "      <td>55</td>\n",
              "      <td>NaN</td>\n",
              "      <td>55</td>\n",
              "      <td>C1-C4</td>\n",
              "      <td>C8</td>\n",
              "    </tr>\n",
              "    <tr>\n",
              "      <th>4</th>\n",
              "      <td>CX110</td>\n",
              "      <td>CPA110</td>\n",
              "      <td>Hong Kong</td>\n",
              "      <td>HKG</td>\n",
              "      <td>I</td>\n",
              "      <td>J</td>\n",
              "      <td>1/05/2019</td>\n",
              "      <td>7:35</td>\n",
              "      <td>NaN</td>\n",
              "      <td>NaN</td>\n",
              "      <td>NaN</td>\n",
              "      <td>1/05/2019</td>\n",
              "      <td>7:29</td>\n",
              "      <td>1/05/2019</td>\n",
              "      <td>7:47</td>\n",
              "      <td>209</td>\n",
              "      <td>BLAF</td>\n",
              "      <td>333</td>\n",
              "      <td>A</td>\n",
              "      <td>N</td>\n",
              "      <td>T1</td>\n",
              "      <td>35</td>\n",
              "      <td>NaN</td>\n",
              "      <td>35</td>\n",
              "      <td>F10-F18</td>\n",
              "      <td>FS5</td>\n",
              "    </tr>\n",
              "  </tbody>\n",
              "</table>\n",
              "</div>"
            ],
            "text/plain": [
              "  Flight No Callsign     Origins  ... Gate Avail. Desks Cancel Date\n",
              "0    QF7405  JTE7405  Melbourne   ...  NaN          NaN   1/05/2019\n",
              "1     EK415   UAE8JH      Dubai   ...   57       E1-E12     ES2-ES4\n",
              "2     FJ914   FJI914       Nadi   ...   37      A13-A16         AS5\n",
              "3     QF141   QFA141   Auckland   ...   55        C1-C4          C8\n",
              "4     CX110   CPA110  Hong Kong   ...   35      F10-F18         FS5\n",
              "\n",
              "[5 rows x 26 columns]"
            ]
          },
          "metadata": {
            "tags": []
          },
          "execution_count": 29
        }
      ]
    },
    {
      "cell_type": "code",
      "metadata": {
        "id": "PQK7AFbkg5Qs",
        "colab_type": "code",
        "outputId": "ecb3956b-480f-41f4-f215-52cd29e417a1",
        "colab": {
          "base_uri": "https://localhost:8080/",
          "height": 34
        }
      },
      "source": [
        "len(df1)\n"
      ],
      "execution_count": 0,
      "outputs": [
        {
          "output_type": "execute_result",
          "data": {
            "text/plain": [
              "7028"
            ]
          },
          "metadata": {
            "tags": []
          },
          "execution_count": 30
        }
      ]
    },
    {
      "cell_type": "code",
      "metadata": {
        "id": "KFa4azmthRFT",
        "colab_type": "code",
        "outputId": "3b32ba4d-c513-41d7-91ba-c497f5c11728",
        "colab": {
          "base_uri": "https://localhost:8080/",
          "height": 1000
        }
      },
      "source": [
        "df1['Flight No']"
      ],
      "execution_count": 0,
      "outputs": [
        {
          "output_type": "execute_result",
          "data": {
            "text/plain": [
              "0       QF7405\n",
              "1        EK415\n",
              "2        FJ914\n",
              "3        QF141\n",
              "4        CX110\n",
              "5         QF91\n",
              "6        KE122\n",
              "7        EK412\n",
              "8        SQ212\n",
              "9        JL772\n",
              "10       VA181\n",
              "11       JQ119\n",
              "12       OZ602\n",
              "13       QR906\n",
              "14        DL40\n",
              "15       QF129\n",
              "16       QF143\n",
              "17       UA100\n",
              "18       QF121\n",
              "19       NZ884\n",
              "20        QF23\n",
              "21        QF33\n",
              "22       JQ201\n",
              "23        VA83\n",
              "24       TG476\n",
              "25       VA141\n",
              "26       GA715\n",
              "27       CZ326\n",
              "28       NZ102\n",
              "29        QF81\n",
              "         ...  \n",
              "6998     VA147\n",
              "6999     QF163\n",
              "7000     NZ888\n",
              "7001     QF149\n",
              "7002      FX73\n",
              "7003     NZ842\n",
              "7004       QF3\n",
              "7005     SQ242\n",
              "7006     NZ108\n",
              "7007     CA174\n",
              "7008    ASY315\n",
              "7009     MU736\n",
              "7010      QF25\n",
              "7011     MU778\n",
              "7012     EY455\n",
              "7013     PO246\n",
              "7014     NH880\n",
              "7015     EK413\n",
              "7016     QR909\n",
              "7017      VA79\n",
              "7018     QF117\n",
              "7019     SQ288\n",
              "7020     JQ143\n",
              "7021     HA452\n",
              "7022     CZ302\n",
              "7023    SQ7286\n",
              "7024     CX138\n",
              "7025     MH140\n",
              "7026      CI52\n",
              "7027      5X37\n",
              "Name: Flight No, Length: 7028, dtype: object"
            ]
          },
          "metadata": {
            "tags": []
          },
          "execution_count": 32
        }
      ]
    }
  ]
}