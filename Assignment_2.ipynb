{
  "nbformat": 4,
  "nbformat_minor": 0,
  "metadata": {
    "colab": {
      "name": "Assignment 2.ipynb",
      "provenance": [],
      "include_colab_link": true
    },
    "kernelspec": {
      "name": "python3",
      "display_name": "Python 3"
    }
  },
  "cells": [
    {
      "cell_type": "markdown",
      "metadata": {
        "id": "view-in-github",
        "colab_type": "text"
      },
      "source": [
        "<a href=\"https://colab.research.google.com/github/Andy-Tsunami/UTS-DataAnalytics-13110642/blob/master/Assignment_2.ipynb\" target=\"_parent\"><img src=\"https://colab.research.google.com/assets/colab-badge.svg\" alt=\"Open In Colab\"/></a>"
      ]
    },
    {
      "cell_type": "code",
      "metadata": {
        "id": "qeSnV1eAX74j",
        "colab_type": "code",
        "colab": {}
      },
      "source": [
        "try:\n",
        "    import plotly\n",
        "    major_plotly_version = int(plotly.__version__.split('.')[0])\n",
        "    assert major_plotly_version >= 4\n",
        "except:\n",
        "    !pip install plotly==4.1.0\n",
        "    \n",
        "%matplotlib inline\n",
        "import matplotlib.pyplot as plt\n",
        "import pandas as pd\n",
        "import plotly.express as px\n",
        "import plotly.graph_objects as go\n",
        "import numpy as np\n",
        "import xarray as xr  \n",
        "from datetime import datetime, date, time, tzinfo, timedelta\n",
        "\n",
        "COLAB = True\n",
        "\n",
        "\n"
      ],
      "execution_count": 0,
      "outputs": []
    },
    {
      "cell_type": "code",
      "metadata": {
        "id": "xK0USq4waP6-",
        "colab_type": "code",
        "colab": {}
      },
      "source": [
        "url = 'https://raw.githubusercontent.com/Andy-Tsunami/UTS-DataAnalytics-13110642/master/DEPARTURES.csv'\n",
        "df = pd.read_csv(url)\n",
        "# Dataset is now stored in a Pandas Dataframe"
      ],
      "execution_count": 0,
      "outputs": []
    },
    {
      "cell_type": "code",
      "metadata": {
        "id": "MU8pMYzdfesB",
        "colab_type": "code",
        "outputId": "e62d5e9b-111d-465f-cadf-369bc0a08686",
        "colab": {
          "base_uri": "https://localhost:8080/",
          "height": 241
        }
      },
      "source": [
        "df.head()"
      ],
      "execution_count": 4,
      "outputs": [
        {
          "output_type": "execute_result",
          "data": {
            "text/html": [
              "<div>\n",
              "<style scoped>\n",
              "    .dataframe tbody tr th:only-of-type {\n",
              "        vertical-align: middle;\n",
              "    }\n",
              "\n",
              "    .dataframe tbody tr th {\n",
              "        vertical-align: top;\n",
              "    }\n",
              "\n",
              "    .dataframe thead th {\n",
              "        text-align: right;\n",
              "    }\n",
              "</style>\n",
              "<table border=\"1\" class=\"dataframe\">\n",
              "  <thead>\n",
              "    <tr style=\"text-align: right;\">\n",
              "      <th></th>\n",
              "      <th>Flight_No</th>\n",
              "      <th>Callsign</th>\n",
              "      <th>Origins</th>\n",
              "      <th>Airports</th>\n",
              "      <th>Int_Dom</th>\n",
              "      <th>FltTyp</th>\n",
              "      <th>Date</th>\n",
              "      <th>Sched_Time</th>\n",
              "      <th>Est_Date</th>\n",
              "      <th>Est_Time</th>\n",
              "      <th>Off_Chks_Date</th>\n",
              "      <th>OFF_BLOCK</th>\n",
              "      <th>Act_Date</th>\n",
              "      <th>Act_Time</th>\n",
              "      <th>PROV_TOTAL_PAX</th>\n",
              "      <th>Regn</th>\n",
              "      <th>AC_TYPE</th>\n",
              "      <th>STATUS</th>\n",
              "      <th>Public</th>\n",
              "      <th>Terminal</th>\n",
              "      <th>STAND</th>\n",
              "      <th>Position</th>\n",
              "      <th>Gate</th>\n",
              "      <th>Avail_Desks</th>\n",
              "    </tr>\n",
              "  </thead>\n",
              "  <tbody>\n",
              "    <tr>\n",
              "      <th>0</th>\n",
              "      <td>EK415</td>\n",
              "      <td>UAE8JH</td>\n",
              "      <td>Dubai</td>\n",
              "      <td>DXB</td>\n",
              "      <td>I</td>\n",
              "      <td>J</td>\n",
              "      <td>01/03/2019</td>\n",
              "      <td>6:00</td>\n",
              "      <td>NaN</td>\n",
              "      <td>NaN</td>\n",
              "      <td>01/03/2019</td>\n",
              "      <td>5:58</td>\n",
              "      <td>01/03/2019</td>\n",
              "      <td>6:17</td>\n",
              "      <td>409</td>\n",
              "      <td>A6EET</td>\n",
              "      <td>388</td>\n",
              "      <td>A</td>\n",
              "      <td>N</td>\n",
              "      <td>T1</td>\n",
              "      <td>57</td>\n",
              "      <td>NaN</td>\n",
              "      <td>57</td>\n",
              "      <td>E1-E12</td>\n",
              "    </tr>\n",
              "    <tr>\n",
              "      <th>1</th>\n",
              "      <td>FJ914</td>\n",
              "      <td>FJI914</td>\n",
              "      <td>Nadi</td>\n",
              "      <td>NAN</td>\n",
              "      <td>I</td>\n",
              "      <td>J</td>\n",
              "      <td>01/03/2019</td>\n",
              "      <td>6:15</td>\n",
              "      <td>NaN</td>\n",
              "      <td>NaN</td>\n",
              "      <td>01/03/2019</td>\n",
              "      <td>6:12</td>\n",
              "      <td>01/03/2019</td>\n",
              "      <td>6:25</td>\n",
              "      <td>160</td>\n",
              "      <td>DQFJM</td>\n",
              "      <td>73H</td>\n",
              "      <td>A</td>\n",
              "      <td>N</td>\n",
              "      <td>T1</td>\n",
              "      <td>31</td>\n",
              "      <td>NaN</td>\n",
              "      <td>31</td>\n",
              "      <td>A13-A16</td>\n",
              "    </tr>\n",
              "    <tr>\n",
              "      <th>2</th>\n",
              "      <td>PO240</td>\n",
              "      <td>PAC240</td>\n",
              "      <td>Tokyo</td>\n",
              "      <td>NRT</td>\n",
              "      <td>I</td>\n",
              "      <td>F</td>\n",
              "      <td>01/03/2019</td>\n",
              "      <td>6:30</td>\n",
              "      <td>NaN</td>\n",
              "      <td>NaN</td>\n",
              "      <td>01/03/2019</td>\n",
              "      <td>6:32</td>\n",
              "      <td>01/03/2019</td>\n",
              "      <td>6:50</td>\n",
              "      <td>0</td>\n",
              "      <td>N643GT</td>\n",
              "      <td>76Y</td>\n",
              "      <td>A</td>\n",
              "      <td>N</td>\n",
              "      <td>T1</td>\n",
              "      <td>1</td>\n",
              "      <td>NaN</td>\n",
              "      <td>NaN</td>\n",
              "      <td>NaN</td>\n",
              "    </tr>\n",
              "    <tr>\n",
              "      <th>3</th>\n",
              "      <td>HU448</td>\n",
              "      <td>CHH448</td>\n",
              "      <td>Haikou Taiyuan/Wusu</td>\n",
              "      <td>HAK TYN</td>\n",
              "      <td>I</td>\n",
              "      <td>J</td>\n",
              "      <td>01/03/2019</td>\n",
              "      <td>7:55</td>\n",
              "      <td>NaN</td>\n",
              "      <td>NaN</td>\n",
              "      <td>01/03/2019</td>\n",
              "      <td>7:57</td>\n",
              "      <td>01/03/2019</td>\n",
              "      <td>8:14</td>\n",
              "      <td>146</td>\n",
              "      <td>B5950</td>\n",
              "      <td>333</td>\n",
              "      <td>A</td>\n",
              "      <td>N</td>\n",
              "      <td>T1</td>\n",
              "      <td>30</td>\n",
              "      <td>NaN</td>\n",
              "      <td>30</td>\n",
              "      <td>G10-G15</td>\n",
              "    </tr>\n",
              "    <tr>\n",
              "      <th>4</th>\n",
              "      <td>QF141</td>\n",
              "      <td>QFA141</td>\n",
              "      <td>Auckland</td>\n",
              "      <td>AKL</td>\n",
              "      <td>I</td>\n",
              "      <td>J</td>\n",
              "      <td>01/03/2019</td>\n",
              "      <td>7:55</td>\n",
              "      <td>NaN</td>\n",
              "      <td>NaN</td>\n",
              "      <td>01/03/2019</td>\n",
              "      <td>7:57</td>\n",
              "      <td>01/03/2019</td>\n",
              "      <td>8:23</td>\n",
              "      <td>157</td>\n",
              "      <td>VHVZV</td>\n",
              "      <td>738</td>\n",
              "      <td>A</td>\n",
              "      <td>N</td>\n",
              "      <td>T1</td>\n",
              "      <td>63</td>\n",
              "      <td>NaN</td>\n",
              "      <td>63</td>\n",
              "      <td>C1-C4</td>\n",
              "    </tr>\n",
              "  </tbody>\n",
              "</table>\n",
              "</div>"
            ],
            "text/plain": [
              "  Flight_No Callsign              Origins  ... Position Gate Avail_Desks\n",
              "0     EK415   UAE8JH                Dubai  ...      NaN   57      E1-E12\n",
              "1     FJ914   FJI914                 Nadi  ...      NaN   31     A13-A16\n",
              "2     PO240   PAC240                Tokyo  ...      NaN  NaN         NaN\n",
              "3     HU448   CHH448  Haikou Taiyuan/Wusu  ...      NaN   30     G10-G15\n",
              "4     QF141   QFA141             Auckland  ...      NaN   63       C1-C4\n",
              "\n",
              "[5 rows x 24 columns]"
            ]
          },
          "metadata": {
            "tags": []
          },
          "execution_count": 4
        }
      ]
    },
    {
      "cell_type": "code",
      "metadata": {
        "id": "PQK7AFbkg5Qs",
        "colab_type": "code",
        "outputId": "e9134cf5-35ea-4f2b-eeaf-56b9d2a282d0",
        "colab": {
          "base_uri": "https://localhost:8080/",
          "height": 34
        }
      },
      "source": [
        "len(df)\n"
      ],
      "execution_count": 5,
      "outputs": [
        {
          "output_type": "execute_result",
          "data": {
            "text/plain": [
              "14274"
            ]
          },
          "metadata": {
            "tags": []
          },
          "execution_count": 5
        }
      ]
    },
    {
      "cell_type": "code",
      "metadata": {
        "id": "KFa4azmthRFT",
        "colab_type": "code",
        "colab": {
          "base_uri": "https://localhost:8080/",
          "height": 1000
        },
        "outputId": "d3940b80-2fc5-44c4-ed53-20c65669c3f7"
      },
      "source": [
        "df['Sched_Time']"
      ],
      "execution_count": 5,
      "outputs": [
        {
          "output_type": "execute_result",
          "data": {
            "text/plain": [
              "0         6:00\n",
              "1         6:15\n",
              "2         6:30\n",
              "3         7:55\n",
              "4         7:55\n",
              "5         7:55\n",
              "6         8:50\n",
              "7         8:55\n",
              "8         8:30\n",
              "9         9:05\n",
              "10        9:15\n",
              "11        8:45\n",
              "12        9:30\n",
              "13        9:30\n",
              "14        9:40\n",
              "15        9:50\n",
              "16        9:55\n",
              "17       10:00\n",
              "18       10:00\n",
              "19       10:05\n",
              "20       10:15\n",
              "21        9:20\n",
              "22       10:15\n",
              "23       10:20\n",
              "24       10:00\n",
              "25       10:30\n",
              "26       10:30\n",
              "27       10:45\n",
              "28        9:00\n",
              "29       10:55\n",
              "         ...  \n",
              "14244    18:30\n",
              "14245    18:40\n",
              "14246    18:45\n",
              "14247    18:55\n",
              "14248    19:00\n",
              "14249    18:45\n",
              "14250    18:05\n",
              "14251    19:15\n",
              "14252    19:10\n",
              "14253    19:45\n",
              "14254    19:55\n",
              "14255    20:30\n",
              "14256    20:50\n",
              "14257    20:50\n",
              "14258    20:55\n",
              "14259    20:55\n",
              "14260    20:55\n",
              "14261    21:10\n",
              "14262    21:00\n",
              "14263    21:15\n",
              "14264    21:20\n",
              "14265    21:20\n",
              "14266    19:40\n",
              "14267    21:40\n",
              "14268    21:45\n",
              "14269    21:55\n",
              "14270    21:55\n",
              "14271    22:10\n",
              "14272    22:10\n",
              "14273    19:00\n",
              "Name: Sched_Time, Length: 14274, dtype: object"
            ]
          },
          "metadata": {
            "tags": []
          },
          "execution_count": 5
        }
      ]
    },
    {
      "cell_type": "code",
      "metadata": {
        "id": "LsZ2pvLBOds0",
        "colab_type": "code",
        "colab": {
          "base_uri": "https://localhost:8080/",
          "height": 1000
        },
        "outputId": "f817e485-5f56-4442-db7e-caa4701935ff"
      },
      "source": [
        "df['Flight_No'].value_counts()"
      ],
      "execution_count": 6,
      "outputs": [
        {
          "output_type": "execute_result",
          "data": {
            "text/plain": [
              "LA800      124\n",
              "CX138      122\n",
              "SQ222      122\n",
              "FJ914      122\n",
              "CZ326      122\n",
              "AC34       122\n",
              "QF1        122\n",
              "QF139      122\n",
              "VA141      122\n",
              "QF121      122\n",
              "UA870      122\n",
              "EY451      122\n",
              "KE122      122\n",
              "QF129      122\n",
              "FJ910      122\n",
              "QF127      122\n",
              "HA452      122\n",
              "QF141      122\n",
              "SQ242      122\n",
              "QF163      122\n",
              "SQ232      122\n",
              "MH122      122\n",
              "QF11       122\n",
              "QF143      122\n",
              "NH880      122\n",
              "EK413      122\n",
              "QF161      122\n",
              "MH140      122\n",
              "EK412      122\n",
              "QF145      122\n",
              "          ... \n",
              "NZ6066       1\n",
              "FX9147       1\n",
              "ASY576       1\n",
              "NAB006       1\n",
              "QF6033       1\n",
              "JQ7143       1\n",
              "VA104        1\n",
              "UA2739       1\n",
              "QF6026       1\n",
              "QF6019       1\n",
              "VA9584       1\n",
              "NZ6016       1\n",
              "FJ2914       1\n",
              "NZ6052       1\n",
              "HJ92         1\n",
              "ZL7410       1\n",
              "QR909D       1\n",
              "QR2909       1\n",
              "VN772D       1\n",
              "QF6025       1\n",
              "DNA4993      1\n",
              "FX9177       1\n",
              "BOXER43      1\n",
              "UA2784       1\n",
              "QF7340       1\n",
              "AI301D       1\n",
              "QF94         1\n",
              "MF802A       1\n",
              "QF25D        1\n",
              "VA1D         1\n",
              "Name: Flight_No, Length: 324, dtype: int64"
            ]
          },
          "metadata": {
            "tags": []
          },
          "execution_count": 6
        }
      ]
    },
    {
      "cell_type": "code",
      "metadata": {
        "id": "yxRjzKYRkQNT",
        "colab_type": "code",
        "colab": {
          "base_uri": "https://localhost:8080/",
          "height": 442
        },
        "outputId": "7d960545-742d-41c4-840b-ee2d1c70631d"
      },
      "source": [
        "print(df.dtypes)"
      ],
      "execution_count": 7,
      "outputs": [
        {
          "output_type": "stream",
          "text": [
            "Flight_No          object\n",
            "Callsign           object\n",
            "Origins            object\n",
            "Airports           object\n",
            "Int_Dom            object\n",
            "FltTyp             object\n",
            "Date               object\n",
            "Sched_Time         object\n",
            "Est_Date           object\n",
            "Est_Time           object\n",
            "Off_Chks_Date      object\n",
            "OFF_BLOCK          object\n",
            "Act_Date           object\n",
            "Act_Time           object\n",
            "PROV_TOTAL_PAX     object\n",
            "Regn               object\n",
            "AC_TYPE            object\n",
            "STATUS             object\n",
            "Public             object\n",
            "Terminal           object\n",
            "STAND              object\n",
            "Position          float64\n",
            "Gate               object\n",
            "Avail_Desks        object\n",
            "dtype: object\n"
          ],
          "name": "stdout"
        }
      ]
    },
    {
      "cell_type": "code",
      "metadata": {
        "id": "8_zHLFbnVzfa",
        "colab_type": "code",
        "colab": {}
      },
      "source": [
        "Sched = pd.to_datetime(df['Sched_Time'])\n",
        "OffB = pd.to_datetime(df['OFF_BLOCK'])\n",
        "diff = \n",
        "df['otp'] = OffB - Sched\n",
        "df.head()"
      ],
      "execution_count": 0,
      "outputs": []
    },
    {
      "cell_type": "code",
      "metadata": {
        "id": "Es4SG8dc8UcT",
        "colab_type": "code",
        "colab": {
          "base_uri": "https://localhost:8080/",
          "height": 215
        },
        "outputId": "f7d9ee16-2b49-4f27-dcff-6c53ff175847"
      },
      "source": [
        "Sched = datetime.hour(df['Sched_Time'], '%h %m').hour()\n",
        "OffB = datetime.hour(df['OFF_BLOCK'], '%h %m').hour()\n",
        "df['otp'] = OffB - Sched\n",
        "df.head()              "
      ],
      "execution_count": 53,
      "outputs": [
        {
          "output_type": "error",
          "ename": "TypeError",
          "evalue": "ignored",
          "traceback": [
            "\u001b[0;31m---------------------------------------------------------------------------\u001b[0m",
            "\u001b[0;31mTypeError\u001b[0m                                 Traceback (most recent call last)",
            "\u001b[0;32m<ipython-input-53-a9623ce7b6ec>\u001b[0m in \u001b[0;36m<module>\u001b[0;34m()\u001b[0m\n\u001b[0;32m----> 1\u001b[0;31m \u001b[0mSched\u001b[0m \u001b[0;34m=\u001b[0m \u001b[0mdatetime\u001b[0m\u001b[0;34m.\u001b[0m\u001b[0mhour\u001b[0m\u001b[0;34m(\u001b[0m\u001b[0mdf\u001b[0m\u001b[0;34m[\u001b[0m\u001b[0;34m'Sched_Time'\u001b[0m\u001b[0;34m]\u001b[0m\u001b[0;34m,\u001b[0m \u001b[0;34m'%h %m'\u001b[0m\u001b[0;34m)\u001b[0m\u001b[0;34m.\u001b[0m\u001b[0mhour\u001b[0m\u001b[0;34m(\u001b[0m\u001b[0;34m)\u001b[0m\u001b[0;34m\u001b[0m\u001b[0;34m\u001b[0m\u001b[0m\n\u001b[0m\u001b[1;32m      2\u001b[0m \u001b[0mOffB\u001b[0m \u001b[0;34m=\u001b[0m \u001b[0mdatetime\u001b[0m\u001b[0;34m.\u001b[0m\u001b[0mhour\u001b[0m\u001b[0;34m(\u001b[0m\u001b[0mdf\u001b[0m\u001b[0;34m[\u001b[0m\u001b[0;34m'OFF_BLOCK'\u001b[0m\u001b[0;34m]\u001b[0m\u001b[0;34m,\u001b[0m \u001b[0;34m'%h %m'\u001b[0m\u001b[0;34m)\u001b[0m\u001b[0;34m.\u001b[0m\u001b[0mhour\u001b[0m\u001b[0;34m(\u001b[0m\u001b[0;34m)\u001b[0m\u001b[0;34m\u001b[0m\u001b[0;34m\u001b[0m\u001b[0m\n\u001b[1;32m      3\u001b[0m \u001b[0mdf\u001b[0m\u001b[0;34m[\u001b[0m\u001b[0;34m'otp'\u001b[0m\u001b[0;34m]\u001b[0m \u001b[0;34m=\u001b[0m \u001b[0mOffB\u001b[0m \u001b[0;34m-\u001b[0m \u001b[0mSched\u001b[0m\u001b[0;34m\u001b[0m\u001b[0;34m\u001b[0m\u001b[0m\n\u001b[1;32m      4\u001b[0m \u001b[0mdf\u001b[0m\u001b[0;34m.\u001b[0m\u001b[0mhead\u001b[0m\u001b[0;34m(\u001b[0m\u001b[0;34m)\u001b[0m\u001b[0;34m\u001b[0m\u001b[0;34m\u001b[0m\u001b[0m\n",
            "\u001b[0;31mTypeError\u001b[0m: 'getset_descriptor' object is not callable"
          ]
        }
      ]
    },
    {
      "cell_type": "code",
      "metadata": {
        "id": "MJNKFehb4SUt",
        "colab_type": "code",
        "colab": {}
      },
      "source": [
        ""
      ],
      "execution_count": 0,
      "outputs": []
    },
    {
      "cell_type": "code",
      "metadata": {
        "id": "Di0SAifPSI64",
        "colab_type": "code",
        "colab": {}
      },
      "source": [
        "qf_data=df.loc[df['FltTyp'] == \"J\"]"
      ],
      "execution_count": 0,
      "outputs": []
    },
    {
      "cell_type": "code",
      "metadata": {
        "id": "5ejKcUmVVyYn",
        "colab_type": "code",
        "colab": {
          "base_uri": "https://localhost:8080/",
          "height": 241
        },
        "outputId": "05ae9c08-282f-4168-c47e-e2dda3466539"
      },
      "source": [
        "qf_data.head(5)"
      ],
      "execution_count": 32,
      "outputs": [
        {
          "output_type": "execute_result",
          "data": {
            "text/html": [
              "<div>\n",
              "<style scoped>\n",
              "    .dataframe tbody tr th:only-of-type {\n",
              "        vertical-align: middle;\n",
              "    }\n",
              "\n",
              "    .dataframe tbody tr th {\n",
              "        vertical-align: top;\n",
              "    }\n",
              "\n",
              "    .dataframe thead th {\n",
              "        text-align: right;\n",
              "    }\n",
              "</style>\n",
              "<table border=\"1\" class=\"dataframe\">\n",
              "  <thead>\n",
              "    <tr style=\"text-align: right;\">\n",
              "      <th></th>\n",
              "      <th>Flight_No</th>\n",
              "      <th>Callsign</th>\n",
              "      <th>Origins</th>\n",
              "      <th>Airports</th>\n",
              "      <th>Int_Dom</th>\n",
              "      <th>FltTyp</th>\n",
              "      <th>Date</th>\n",
              "      <th>Sched_Time</th>\n",
              "      <th>Est_Date</th>\n",
              "      <th>Est_Time</th>\n",
              "      <th>Off_Chks_Date</th>\n",
              "      <th>OFF_BLOCK</th>\n",
              "      <th>Act_Date</th>\n",
              "      <th>Act_Time</th>\n",
              "      <th>PROV_TOTAL_PAX</th>\n",
              "      <th>Regn</th>\n",
              "      <th>AC_TYPE</th>\n",
              "      <th>STATUS</th>\n",
              "      <th>Public</th>\n",
              "      <th>Terminal</th>\n",
              "      <th>STAND</th>\n",
              "      <th>Position</th>\n",
              "      <th>Gate</th>\n",
              "      <th>Avail_Desks</th>\n",
              "      <th>otp</th>\n",
              "    </tr>\n",
              "  </thead>\n",
              "  <tbody>\n",
              "    <tr>\n",
              "      <th>0</th>\n",
              "      <td>EK415</td>\n",
              "      <td>UAE8JH</td>\n",
              "      <td>Dubai</td>\n",
              "      <td>DXB</td>\n",
              "      <td>I</td>\n",
              "      <td>J</td>\n",
              "      <td>01/03/2019</td>\n",
              "      <td>6:00</td>\n",
              "      <td>NaN</td>\n",
              "      <td>NaN</td>\n",
              "      <td>01/03/2019</td>\n",
              "      <td>5:58</td>\n",
              "      <td>01/03/2019</td>\n",
              "      <td>6:17</td>\n",
              "      <td>409</td>\n",
              "      <td>A6EET</td>\n",
              "      <td>388</td>\n",
              "      <td>A</td>\n",
              "      <td>N</td>\n",
              "      <td>T1</td>\n",
              "      <td>57</td>\n",
              "      <td>NaN</td>\n",
              "      <td>57</td>\n",
              "      <td>E1-E12</td>\n",
              "      <td>00:17:00</td>\n",
              "    </tr>\n",
              "    <tr>\n",
              "      <th>1</th>\n",
              "      <td>FJ914</td>\n",
              "      <td>FJI914</td>\n",
              "      <td>Nadi</td>\n",
              "      <td>NAN</td>\n",
              "      <td>I</td>\n",
              "      <td>J</td>\n",
              "      <td>01/03/2019</td>\n",
              "      <td>6:15</td>\n",
              "      <td>NaN</td>\n",
              "      <td>NaN</td>\n",
              "      <td>01/03/2019</td>\n",
              "      <td>6:12</td>\n",
              "      <td>01/03/2019</td>\n",
              "      <td>6:25</td>\n",
              "      <td>160</td>\n",
              "      <td>DQFJM</td>\n",
              "      <td>73H</td>\n",
              "      <td>A</td>\n",
              "      <td>N</td>\n",
              "      <td>T1</td>\n",
              "      <td>31</td>\n",
              "      <td>NaN</td>\n",
              "      <td>31</td>\n",
              "      <td>A13-A16</td>\n",
              "      <td>00:10:00</td>\n",
              "    </tr>\n",
              "    <tr>\n",
              "      <th>3</th>\n",
              "      <td>HU448</td>\n",
              "      <td>CHH448</td>\n",
              "      <td>Haikou Taiyuan/Wusu</td>\n",
              "      <td>HAK TYN</td>\n",
              "      <td>I</td>\n",
              "      <td>J</td>\n",
              "      <td>01/03/2019</td>\n",
              "      <td>7:55</td>\n",
              "      <td>NaN</td>\n",
              "      <td>NaN</td>\n",
              "      <td>01/03/2019</td>\n",
              "      <td>7:57</td>\n",
              "      <td>01/03/2019</td>\n",
              "      <td>8:14</td>\n",
              "      <td>146</td>\n",
              "      <td>B5950</td>\n",
              "      <td>333</td>\n",
              "      <td>A</td>\n",
              "      <td>N</td>\n",
              "      <td>T1</td>\n",
              "      <td>30</td>\n",
              "      <td>NaN</td>\n",
              "      <td>30</td>\n",
              "      <td>G10-G15</td>\n",
              "      <td>00:19:00</td>\n",
              "    </tr>\n",
              "    <tr>\n",
              "      <th>4</th>\n",
              "      <td>QF141</td>\n",
              "      <td>QFA141</td>\n",
              "      <td>Auckland</td>\n",
              "      <td>AKL</td>\n",
              "      <td>I</td>\n",
              "      <td>J</td>\n",
              "      <td>01/03/2019</td>\n",
              "      <td>7:55</td>\n",
              "      <td>NaN</td>\n",
              "      <td>NaN</td>\n",
              "      <td>01/03/2019</td>\n",
              "      <td>7:57</td>\n",
              "      <td>01/03/2019</td>\n",
              "      <td>8:23</td>\n",
              "      <td>157</td>\n",
              "      <td>VHVZV</td>\n",
              "      <td>738</td>\n",
              "      <td>A</td>\n",
              "      <td>N</td>\n",
              "      <td>T1</td>\n",
              "      <td>63</td>\n",
              "      <td>NaN</td>\n",
              "      <td>63</td>\n",
              "      <td>C1-C4</td>\n",
              "      <td>00:28:00</td>\n",
              "    </tr>\n",
              "    <tr>\n",
              "      <th>5</th>\n",
              "      <td>QR906</td>\n",
              "      <td>QTR906</td>\n",
              "      <td>Canberra</td>\n",
              "      <td>CBR</td>\n",
              "      <td>I</td>\n",
              "      <td>J</td>\n",
              "      <td>01/03/2019</td>\n",
              "      <td>7:55</td>\n",
              "      <td>NaN</td>\n",
              "      <td>NaN</td>\n",
              "      <td>01/03/2019</td>\n",
              "      <td>7:45</td>\n",
              "      <td>01/03/2019</td>\n",
              "      <td>7:59</td>\n",
              "      <td>0</td>\n",
              "      <td>A7BEO</td>\n",
              "      <td>77W</td>\n",
              "      <td>A</td>\n",
              "      <td>N</td>\n",
              "      <td>T1</td>\n",
              "      <td>36</td>\n",
              "      <td>NaN</td>\n",
              "      <td>36</td>\n",
              "      <td>NaN</td>\n",
              "      <td>00:04:00</td>\n",
              "    </tr>\n",
              "  </tbody>\n",
              "</table>\n",
              "</div>"
            ],
            "text/plain": [
              "  Flight_No Callsign              Origins  ... Gate Avail_Desks      otp\n",
              "0     EK415   UAE8JH                Dubai  ...   57      E1-E12 00:17:00\n",
              "1     FJ914   FJI914                 Nadi  ...   31     A13-A16 00:10:00\n",
              "3     HU448   CHH448  Haikou Taiyuan/Wusu  ...   30     G10-G15 00:19:00\n",
              "4     QF141   QFA141             Auckland  ...   63       C1-C4 00:28:00\n",
              "5     QR906   QTR906             Canberra  ...   36         NaN 00:04:00\n",
              "\n",
              "[5 rows x 25 columns]"
            ]
          },
          "metadata": {
            "tags": []
          },
          "execution_count": 32
        }
      ]
    },
    {
      "cell_type": "code",
      "metadata": {
        "id": "7CEbEFWGyavQ",
        "colab_type": "code",
        "colab": {
          "base_uri": "https://localhost:8080/",
          "height": 617
        },
        "outputId": "c59280c3-dc1a-4deb-cc0c-0f94e26cada0"
      },
      "source": [
        "px.scatter(qf_data.query('Flight_No == [\"QF1\",\"QF7\", \"QF81\", \"QF63\"]'),\n",
        "           x=\"Date\" , y=\"otp\", color=\"Flight_No\")"
      ],
      "execution_count": 10,
      "outputs": [
        {
          "output_type": "display_data",
          "data": {
            "text/html": [
              "<html>\n",
              "<head><meta charset=\"utf-8\" /></head>\n",
              "<body>\n",
              "    <div>\n",
              "            <script src=\"https://cdnjs.cloudflare.com/ajax/libs/mathjax/2.7.5/MathJax.js?config=TeX-AMS-MML_SVG\"></script><script type=\"text/javascript\">if (window.MathJax) {MathJax.Hub.Config({SVG: {font: \"STIX-Web\"}});}</script>\n",
              "                <script type=\"text/javascript\">window.PlotlyConfig = {MathJaxConfig: 'local'};</script>\n",
              "        <script src=\"https://cdn.plot.ly/plotly-latest.min.js\"></script>    \n",
              "            <div id=\"c0a1b3c2-40a6-49a7-80ff-585155dacad3\" class=\"plotly-graph-div\" style=\"height:600px; width:100%;\"></div>\n",
              "            <script type=\"text/javascript\">\n",
              "                \n",
              "                    window.PLOTLYENV=window.PLOTLYENV || {};\n",
              "                    \n",
              "                if (document.getElementById(\"c0a1b3c2-40a6-49a7-80ff-585155dacad3\")) {\n",
              "                    Plotly.newPlot(\n",
              "                        'c0a1b3c2-40a6-49a7-80ff-585155dacad3',\n",
              "                        [{\"hoverlabel\": {\"namelength\": 0}, \"hovertemplate\": \"Flight_No=QF63<br>Date=%{x}<br>otp=%{y}\", \"legendgroup\": \"Flight_No=QF63\", \"marker\": {\"color\": \"#636efa\", \"symbol\": \"circle\"}, \"mode\": \"markers\", \"name\": \"Flight_No=QF63\", \"showlegend\": true, \"type\": \"scatter\", \"x\": [\"01/03/2019\", \"02/03/2019\", \"04/03/2019\", \"05/03/2019\", \"07/03/2019\", \"08/03/2019\", \"09/03/2019\", \"10/03/2019\", \"11/03/2019\", \"12/03/2019\", \"14/03/2019\", \"15/03/2019\", \"16/03/2019\", \"17/03/2019\", \"18/03/2019\", \"19/03/2019\", \"21/03/2019\", \"22/03/2019\", \"23/03/2019\", \"24/03/2019\", \"25/03/2019\", \"26/03/2019\", \"28/03/2019\", \"29/03/2019\", \"30/03/2019\", \"31/03/2019\", \"01/04/2019\", \"02/04/2019\", \"04/04/2019\", \"05/04/2019\", \"06/04/2019\", \"07/04/2019\", \"08/04/2019\", \"09/04/2019\", \"11/04/2019\", \"12/04/2019\", \"13/04/2019\", \"14/04/2019\", \"15/04/2019\", \"16/04/2019\", \"18/04/2019\", \"19/04/2019\", \"20/04/2019\", \"21/04/2019\", \"22/04/2019\", \"23/04/2019\", \"25/04/2019\", \"26/04/2019\", \"27/04/2019\", \"28/04/2019\", \"29/04/2019\", \"30/04/2019\", \"02/05/2019\", \"03/05/2019\", \"04/05/2019\", \"05/05/2019\", \"06/05/2019\", \"07/05/2019\", \"09/05/2019\", \"10/05/2019\", \"11/05/2019\", \"12/05/2019\", \"13/05/2019\", \"14/05/2019\", \"16/05/2019\", \"17/05/2019\", \"18/05/2019\", \"19/05/2019\", \"21/05/2019\", \"23/05/2019\", \"24/05/2019\", \"25/05/2019\", \"26/05/2019\", \"28/05/2019\", \"30/05/2019\", \"31/05/2019\", \"01/06/2019\", \"02/06/2019\", \"04/06/2019\", \"06/06/2019\", \"07/06/2019\", \"08/06/2019\", \"09/06/2019\", \"11/06/2019\", \"13/06/2019\", \"14/06/2019\", \"15/06/2019\", \"16/06/2019\", \"17/06/2019\", \"18/06/2019\", \"20/06/2019\", \"21/06/2019\", \"22/06/2019\", \"23/06/2019\", \"24/06/2019\", \"25/06/2019\", \"27/06/2019\", \"28/06/2019\", \"29/06/2019\", \"30/06/2019\"], \"xaxis\": \"x\", \"y\": [1680000000000, 780000000000, 480000000000, 1260000000000, 180000000000, 720000000000, 1200000000000, 240000000000, 1860000000000, 420000000000, 1200000000000, 2340000000000, 1440000000000, 1500000000000, 3300000000000, 1380000000000, 5880000000000, 3660000000000, 1680000000000, 960000000000, 660000000000, 840000000000, 120000000000, 5340000000000, 600000000000, 2220000000000, 780000000000, 540000000000, 2280000000000, 1380000000000, 1800000000000, 3420000000000, 2160000000000, -60000000000, 3060000000000, 1980000000000, 600000000000, 3060000000000, 1560000000000, 3480000000000, 4320000000000, 2640000000000, 540000000000, 5820000000000, 1140000000000, 720000000000, 120000000000, 300000000000, 840000000000, -60000000000, 1680000000000, 1140000000000, 2100000000000, 540000000000, 720000000000, 3420000000000, 4140000000000, 1920000000000, 2100000000000, 780000000000, 3180000000000, 360000000000, 3900000000000, 2700000000000, 2220000000000, 3540000000000, 600000000000, 480000000000, 4140000000000, 240000000000, 5940000000000, 2340000000000, 1200000000000, 1260000000000, 2580000000000, 3540000000000, 3720000000000, 1020000000000, 2700000000000, 2940000000000, 780000000000, 2220000000000, 4200000000000, 1740000000000, 840000000000, 2580000000000, 3660000000000, 540000000000, 900000000000, 1740000000000, 900000000000, 900000000000, 1380000000000, 1380000000000, 1380000000000, 1680000000000, 1080000000000, 1080000000000, 5040000000000, 360000000000], \"yaxis\": \"y\"}, {\"hoverlabel\": {\"namelength\": 0}, \"hovertemplate\": \"Flight_No=QF81<br>Date=%{x}<br>otp=%{y}\", \"legendgroup\": \"Flight_No=QF81\", \"marker\": {\"color\": \"#EF553B\", \"symbol\": \"circle\"}, \"mode\": \"markers\", \"name\": \"Flight_No=QF81\", \"showlegend\": true, \"type\": \"scatter\", \"x\": [\"01/03/2019\", \"02/03/2019\", \"03/03/2019\", \"04/03/2019\", \"05/03/2019\", \"06/03/2019\", \"07/03/2019\", \"08/03/2019\", \"09/03/2019\", \"10/03/2019\", \"11/03/2019\", \"12/03/2019\", \"13/03/2019\", \"14/03/2019\", \"15/03/2019\", \"16/03/2019\", \"17/03/2019\", \"18/03/2019\", \"19/03/2019\", \"20/03/2019\", \"21/03/2019\", \"22/03/2019\", \"23/03/2019\", \"24/03/2019\", \"25/03/2019\", \"26/03/2019\", \"27/03/2019\", \"28/03/2019\", \"29/03/2019\", \"30/03/2019\", \"31/03/2019\", \"01/04/2019\", \"02/04/2019\", \"03/04/2019\", \"04/04/2019\", \"05/04/2019\", \"06/04/2019\", \"07/04/2019\", \"08/04/2019\", \"09/04/2019\", \"10/04/2019\", \"11/04/2019\", \"12/04/2019\", \"13/04/2019\", \"14/04/2019\", \"15/04/2019\", \"16/04/2019\", \"17/04/2019\", \"18/04/2019\", \"19/04/2019\", \"20/04/2019\", \"21/04/2019\", \"22/04/2019\", \"23/04/2019\", \"24/04/2019\", \"25/04/2019\", \"26/04/2019\", \"27/04/2019\", \"28/04/2019\", \"29/04/2019\", \"30/04/2019\", \"01/05/2019\", \"02/05/2019\", \"03/05/2019\", \"04/05/2019\", \"05/05/2019\", \"06/05/2019\", \"07/05/2019\", \"08/05/2019\", \"09/05/2019\", \"10/05/2019\", \"11/05/2019\", \"12/05/2019\", \"13/05/2019\", \"14/05/2019\", \"15/05/2019\", \"16/05/2019\", \"17/05/2019\", \"18/05/2019\", \"19/05/2019\", \"20/05/2019\", \"21/05/2019\", \"22/05/2019\", \"23/05/2019\", \"24/05/2019\", \"25/05/2019\", \"26/05/2019\", \"27/05/2019\", \"28/05/2019\", \"29/05/2019\", \"30/05/2019\", \"31/05/2019\", \"01/06/2019\", \"02/06/2019\", \"03/06/2019\", \"04/06/2019\", \"05/06/2019\", \"06/06/2019\", \"07/06/2019\", \"08/06/2019\", \"09/06/2019\", \"10/06/2019\", \"11/06/2019\", \"12/06/2019\", \"13/06/2019\", \"14/06/2019\", \"15/06/2019\", \"16/06/2019\", \"17/06/2019\", \"18/06/2019\", \"19/06/2019\", \"20/06/2019\", \"21/06/2019\", \"22/06/2019\", \"23/06/2019\", \"24/06/2019\", \"25/06/2019\", \"26/06/2019\", \"27/06/2019\", \"28/06/2019\", \"29/06/2019\", \"30/06/2019\"], \"xaxis\": \"x\", \"y\": [840000000000, 60000000000, 240000000000, 240000000000, 300000000000, 720000000000, 420000000000, 540000000000, 420000000000, -180000000000, 300000000000, 240000000000, 840000000000, 960000000000, 9900000000000, 480000000000, 2820000000000, 3180000000000, 6600000000000, -180000000000, 720000000000, 2940000000000, 1380000000000, 180000000000, 660000000000, 300000000000, 300000000000, 1020000000000, 5580000000000, 660000000000, 1140000000000, 120000000000, 660000000000, 1800000000000, 900000000000, 2460000000000, 780000000000, 60000000000, 660000000000, 6720000000000, 840000000000, 1200000000000, 900000000000, 720000000000, 2580000000000, -480000000000, 3300000000000, 7020000000000, 2100000000000, 1800000000000, 20220000000000, 960000000000, 1440000000000, 240000000000, 120000000000, 960000000000, 600000000000, -240000000000, 1860000000000, 600000000000, 60000000000, -420000000000, null, 660000000000, 0, 1380000000000, 6600000000000, 780000000000, 0, 1080000000000, 2760000000000, 2040000000000, 420000000000, 2220000000000, 2160000000000, 2040000000000, 600000000000, 900000000000, 360000000000, 480000000000, 720000000000, 1020000000000, 420000000000, -60000000000, -360000000000, 900000000000, 16260000000000, 360000000000, 540000000000, 60000000000, 720000000000, 60000000000, 1500000000000, -120000000000, 1380000000000, 3840000000000, 360000000000, 180000000000, 360000000000, 7080000000000, 120000000000, 360000000000, -240000000000, 120000000000, 1200000000000, -60000000000, 480000000000, 0, 2160000000000, 1560000000000, 60000000000, 7920000000000, 1860000000000, 17280000000000, 1920000000000, 960000000000, 2640000000000, 780000000000, 840000000000, 2760000000000, 1560000000000, 360000000000], \"yaxis\": \"y\"}, {\"hoverlabel\": {\"namelength\": 0}, \"hovertemplate\": \"Flight_No=QF7<br>Date=%{x}<br>otp=%{y}\", \"legendgroup\": \"Flight_No=QF7\", \"marker\": {\"color\": \"#00cc96\", \"symbol\": \"circle\"}, \"mode\": \"markers\", \"name\": \"Flight_No=QF7\", \"showlegend\": true, \"type\": \"scatter\", \"x\": [\"01/03/2019\", \"02/03/2019\", \"03/03/2019\", \"04/03/2019\", \"06/03/2019\", \"07/03/2019\", \"08/03/2019\", \"09/03/2019\", \"10/03/2019\", \"11/03/2019\", \"13/03/2019\", \"14/03/2019\", \"15/03/2019\", \"16/03/2019\", \"17/03/2019\", \"18/03/2019\", \"20/03/2019\", \"21/03/2019\", \"22/03/2019\", \"23/03/2019\", \"24/03/2019\", \"25/03/2019\", \"27/03/2019\", \"28/03/2019\", \"29/03/2019\", \"30/03/2019\", \"31/03/2019\", \"01/04/2019\", \"03/04/2019\", \"04/04/2019\", \"05/04/2019\", \"06/04/2019\", \"07/04/2019\", \"08/04/2019\", \"10/04/2019\", \"11/04/2019\", \"12/04/2019\", \"13/04/2019\", \"14/04/2019\", \"15/04/2019\", \"17/04/2019\", \"18/04/2019\", \"19/04/2019\", \"20/04/2019\", \"21/04/2019\", \"22/04/2019\", \"24/04/2019\", \"25/04/2019\", \"26/04/2019\", \"27/04/2019\", \"28/04/2019\", \"29/04/2019\", \"01/05/2019\", \"02/05/2019\", \"03/05/2019\", \"04/05/2019\", \"05/05/2019\", \"06/05/2019\", \"08/05/2019\", \"09/05/2019\", \"10/05/2019\", \"11/05/2019\", \"12/05/2019\", \"13/05/2019\", \"15/05/2019\", \"16/05/2019\", \"17/05/2019\", \"18/05/2019\", \"19/05/2019\", \"20/05/2019\", \"22/05/2019\", \"23/05/2019\", \"24/05/2019\", \"25/05/2019\", \"26/05/2019\", \"27/05/2019\", \"29/05/2019\", \"30/05/2019\", \"31/05/2019\", \"01/06/2019\", \"02/06/2019\", \"03/06/2019\", \"05/06/2019\", \"06/06/2019\", \"07/06/2019\", \"08/06/2019\", \"09/06/2019\", \"10/06/2019\", \"12/06/2019\", \"13/06/2019\", \"14/06/2019\", \"15/06/2019\", \"16/06/2019\", \"17/06/2019\", \"19/06/2019\", \"20/06/2019\", \"21/06/2019\", \"22/06/2019\", \"23/06/2019\", \"24/06/2019\", \"26/06/2019\", \"27/06/2019\", \"28/06/2019\", \"29/06/2019\", \"30/06/2019\"], \"xaxis\": \"x\", \"y\": [780000000000, 60000000000, 1800000000000, -180000000000, 4080000000000, 20520000000000, 180000000000, 0, 60000000000, 1140000000000, 6480000000000, 5160000000000, 1440000000000, 1020000000000, 1440000000000, 300000000000, 1860000000000, 2640000000000, 3180000000000, 780000000000, 0, 0, 480000000000, 1860000000000, 6000000000000, 28080000000000, 1020000000000, 2340000000000, 2820000000000, 1080000000000, 1380000000000, 540000000000, 1500000000000, 1560000000000, 1440000000000, 540000000000, 960000000000, 180000000000, 1200000000000, 840000000000, 840000000000, 10260000000000, 900000000000, 960000000000, 4020000000000, 720000000000, 540000000000, 2160000000000, 840000000000, 1380000000000, 3960000000000, 720000000000, 2400000000000, 1320000000000, 8460000000000, 4620000000000, 2160000000000, 1260000000000, 1080000000000, 2460000000000, 1380000000000, 780000000000, 3420000000000, 1620000000000, 660000000000, -60000000000, 660000000000, 2520000000000, 0, 300000000000, 1500000000000, 23340000000000, 120000000000, 120000000000, 240000000000, 780000000000, 480000000000, 1680000000000, 1320000000000, 1020000000000, 1140000000000, 840000000000, 2580000000000, 420000000000, 1500000000000, 5640000000000, 16560000000000, 60000000000, 420000000000, 420000000000, 1020000000000, 25920000000000, 2040000000000, 3720000000000, 1800000000000, 1140000000000, 5160000000000, 2400000000000, 1500000000000, 6540000000000, 900000000000, 3660000000000, 1740000000000, 3780000000000, 540000000000], \"yaxis\": \"y\"}, {\"hoverlabel\": {\"namelength\": 0}, \"hovertemplate\": \"Flight_No=QF1<br>Date=%{x}<br>otp=%{y}\", \"legendgroup\": \"Flight_No=QF1\", \"marker\": {\"color\": \"#ab63fa\", \"symbol\": \"circle\"}, \"mode\": \"markers\", \"name\": \"Flight_No=QF1\", \"showlegend\": true, \"type\": \"scatter\", \"x\": [\"01/03/2019\", \"02/03/2019\", \"03/03/2019\", \"04/03/2019\", \"05/03/2019\", \"06/03/2019\", \"07/03/2019\", \"08/03/2019\", \"09/03/2019\", \"10/03/2019\", \"11/03/2019\", \"12/03/2019\", \"13/03/2019\", \"14/03/2019\", \"15/03/2019\", \"16/03/2019\", \"17/03/2019\", \"18/03/2019\", \"19/03/2019\", \"20/03/2019\", \"21/03/2019\", \"22/03/2019\", \"23/03/2019\", \"24/03/2019\", \"25/03/2019\", \"26/03/2019\", \"27/03/2019\", \"28/03/2019\", \"29/03/2019\", \"30/03/2019\", \"31/03/2019\", \"01/04/2019\", \"02/04/2019\", \"03/04/2019\", \"04/04/2019\", \"05/04/2019\", \"06/04/2019\", \"07/04/2019\", \"08/04/2019\", \"09/04/2019\", \"10/04/2019\", \"11/04/2019\", \"12/04/2019\", \"13/04/2019\", \"14/04/2019\", \"15/04/2019\", \"16/04/2019\", \"17/04/2019\", \"18/04/2019\", \"19/04/2019\", \"20/04/2019\", \"21/04/2019\", \"22/04/2019\", \"23/04/2019\", \"24/04/2019\", \"25/04/2019\", \"26/04/2019\", \"27/04/2019\", \"28/04/2019\", \"29/04/2019\", \"30/04/2019\", \"01/05/2019\", \"02/05/2019\", \"03/05/2019\", \"04/05/2019\", \"05/05/2019\", \"06/05/2019\", \"07/05/2019\", \"08/05/2019\", \"09/05/2019\", \"10/05/2019\", \"11/05/2019\", \"12/05/2019\", \"13/05/2019\", \"14/05/2019\", \"15/05/2019\", \"16/05/2019\", \"17/05/2019\", \"18/05/2019\", \"19/05/2019\", \"20/05/2019\", \"21/05/2019\", \"22/05/2019\", \"23/05/2019\", \"24/05/2019\", \"25/05/2019\", \"26/05/2019\", \"27/05/2019\", \"28/05/2019\", \"29/05/2019\", \"30/05/2019\", \"31/05/2019\", \"01/06/2019\", \"02/06/2019\", \"03/06/2019\", \"04/06/2019\", \"05/06/2019\", \"06/06/2019\", \"07/06/2019\", \"08/06/2019\", \"09/06/2019\", \"10/06/2019\", \"11/06/2019\", \"12/06/2019\", \"13/06/2019\", \"14/06/2019\", \"15/06/2019\", \"16/06/2019\", \"17/06/2019\", \"18/06/2019\", \"19/06/2019\", \"20/06/2019\", \"21/06/2019\", \"22/06/2019\", \"23/06/2019\", \"24/06/2019\", \"25/06/2019\", \"26/06/2019\", \"27/06/2019\", \"28/06/2019\", \"29/06/2019\", \"30/06/2019\"], \"xaxis\": \"x\", \"y\": [1560000000000, -240000000000, 300000000000, 720000000000, 6360000000000, 7740000000000, 0, 180000000000, 540000000000, 3660000000000, 240000000000, 180000000000, 240000000000, 20940000000000, 120000000000, 600000000000, -60000000000, 420000000000, 5340000000000, 120000000000, -60000000000, 3660000000000, 2160000000000, 1860000000000, 7200000000000, 840000000000, 60000000000, 180000000000, 480000000000, 1320000000000, 1200000000000, 0, 0, -300000000000, 180000000000, 540000000000, 120000000000, 180000000000, 1380000000000, 2940000000000, 720000000000, 300000000000, 300000000000, 1080000000000, 1260000000000, 660000000000, 960000000000, 840000000000, 13140000000000, 600000000000, -60000000000, 300000000000, -180000000000, 120000000000, 180000000000, -360000000000, 780000000000, 300000000000, 180000000000, 1380000000000, 360000000000, 0, 1200000000000, 540000000000, -240000000000, 480000000000, 4140000000000, -120000000000, 480000000000, 23400000000000, 16800000000000, -60000000000, 3480000000000, 1020000000000, 1980000000000, 120000000000, 300000000000, 2280000000000, 4380000000000, 180000000000, -180000000000, 780000000000, 300000000000, -240000000000, 1020000000000, 420000000000, 420000000000, -660000000000, 900000000000, 960000000000, 300000000000, 1260000000000, 180000000000, 4680000000000, 420000000000, 1740000000000, -60000000000, 3480000000000, 300000000000, 3720000000000, 1920000000000, 480000000000, 420000000000, 3000000000000, 60000000000, 780000000000, -240000000000, 660000000000, 1260000000000, 780000000000, 3480000000000, 6120000000000, 2040000000000, 420000000000, -60000000000, 3600000000000, 600000000000, 1980000000000, 600000000000, 1800000000000, 1440000000000, 420000000000], \"yaxis\": \"y\"}],\n",
              "                        {\"height\": 600, \"legend\": {\"tracegroupgap\": 0}, \"margin\": {\"t\": 60}, \"template\": {\"data\": {\"bar\": [{\"error_x\": {\"color\": \"#2a3f5f\"}, \"error_y\": {\"color\": \"#2a3f5f\"}, \"marker\": {\"line\": {\"color\": \"#E5ECF6\", \"width\": 0.5}}, \"type\": \"bar\"}], \"barpolar\": [{\"marker\": {\"line\": {\"color\": \"#E5ECF6\", \"width\": 0.5}}, \"type\": \"barpolar\"}], \"carpet\": [{\"aaxis\": {\"endlinecolor\": \"#2a3f5f\", \"gridcolor\": \"white\", \"linecolor\": \"white\", \"minorgridcolor\": \"white\", \"startlinecolor\": \"#2a3f5f\"}, \"baxis\": {\"endlinecolor\": \"#2a3f5f\", \"gridcolor\": \"white\", \"linecolor\": \"white\", \"minorgridcolor\": \"white\", \"startlinecolor\": \"#2a3f5f\"}, \"type\": \"carpet\"}], \"choropleth\": [{\"colorbar\": {\"outlinewidth\": 0, \"ticks\": \"\"}, \"type\": \"choropleth\"}], \"contour\": [{\"colorbar\": {\"outlinewidth\": 0, \"ticks\": \"\"}, \"colorscale\": [[0.0, \"#0d0887\"], [0.1111111111111111, \"#46039f\"], [0.2222222222222222, \"#7201a8\"], [0.3333333333333333, \"#9c179e\"], [0.4444444444444444, \"#bd3786\"], [0.5555555555555556, \"#d8576b\"], [0.6666666666666666, \"#ed7953\"], [0.7777777777777778, \"#fb9f3a\"], [0.8888888888888888, \"#fdca26\"], [1.0, \"#f0f921\"]], \"type\": \"contour\"}], \"contourcarpet\": [{\"colorbar\": {\"outlinewidth\": 0, \"ticks\": \"\"}, \"type\": \"contourcarpet\"}], \"heatmap\": [{\"colorbar\": {\"outlinewidth\": 0, \"ticks\": \"\"}, \"colorscale\": [[0.0, \"#0d0887\"], [0.1111111111111111, \"#46039f\"], [0.2222222222222222, \"#7201a8\"], [0.3333333333333333, \"#9c179e\"], [0.4444444444444444, \"#bd3786\"], [0.5555555555555556, \"#d8576b\"], [0.6666666666666666, \"#ed7953\"], [0.7777777777777778, \"#fb9f3a\"], [0.8888888888888888, \"#fdca26\"], [1.0, \"#f0f921\"]], \"type\": \"heatmap\"}], \"heatmapgl\": [{\"colorbar\": {\"outlinewidth\": 0, \"ticks\": \"\"}, \"colorscale\": [[0.0, \"#0d0887\"], [0.1111111111111111, \"#46039f\"], [0.2222222222222222, \"#7201a8\"], [0.3333333333333333, \"#9c179e\"], [0.4444444444444444, \"#bd3786\"], [0.5555555555555556, \"#d8576b\"], [0.6666666666666666, \"#ed7953\"], [0.7777777777777778, \"#fb9f3a\"], [0.8888888888888888, \"#fdca26\"], [1.0, \"#f0f921\"]], \"type\": \"heatmapgl\"}], \"histogram\": [{\"marker\": {\"colorbar\": {\"outlinewidth\": 0, \"ticks\": \"\"}}, \"type\": \"histogram\"}], \"histogram2d\": [{\"colorbar\": {\"outlinewidth\": 0, \"ticks\": \"\"}, \"colorscale\": [[0.0, \"#0d0887\"], [0.1111111111111111, \"#46039f\"], [0.2222222222222222, \"#7201a8\"], [0.3333333333333333, \"#9c179e\"], [0.4444444444444444, \"#bd3786\"], [0.5555555555555556, \"#d8576b\"], [0.6666666666666666, \"#ed7953\"], [0.7777777777777778, \"#fb9f3a\"], [0.8888888888888888, \"#fdca26\"], [1.0, \"#f0f921\"]], \"type\": \"histogram2d\"}], \"histogram2dcontour\": [{\"colorbar\": {\"outlinewidth\": 0, \"ticks\": \"\"}, \"colorscale\": [[0.0, \"#0d0887\"], [0.1111111111111111, \"#46039f\"], [0.2222222222222222, \"#7201a8\"], [0.3333333333333333, \"#9c179e\"], [0.4444444444444444, \"#bd3786\"], [0.5555555555555556, \"#d8576b\"], [0.6666666666666666, \"#ed7953\"], [0.7777777777777778, \"#fb9f3a\"], [0.8888888888888888, \"#fdca26\"], [1.0, \"#f0f921\"]], \"type\": \"histogram2dcontour\"}], \"mesh3d\": [{\"colorbar\": {\"outlinewidth\": 0, \"ticks\": \"\"}, \"type\": \"mesh3d\"}], \"parcoords\": [{\"line\": {\"colorbar\": {\"outlinewidth\": 0, \"ticks\": \"\"}}, \"type\": \"parcoords\"}], \"scatter\": [{\"marker\": {\"colorbar\": {\"outlinewidth\": 0, \"ticks\": \"\"}}, \"type\": \"scatter\"}], \"scatter3d\": [{\"line\": {\"colorbar\": {\"outlinewidth\": 0, \"ticks\": \"\"}}, \"marker\": {\"colorbar\": {\"outlinewidth\": 0, \"ticks\": \"\"}}, \"type\": \"scatter3d\"}], \"scattercarpet\": [{\"marker\": {\"colorbar\": {\"outlinewidth\": 0, \"ticks\": \"\"}}, \"type\": \"scattercarpet\"}], \"scattergeo\": [{\"marker\": {\"colorbar\": {\"outlinewidth\": 0, \"ticks\": \"\"}}, \"type\": \"scattergeo\"}], \"scattergl\": [{\"marker\": {\"colorbar\": {\"outlinewidth\": 0, \"ticks\": \"\"}}, \"type\": \"scattergl\"}], \"scattermapbox\": [{\"marker\": {\"colorbar\": {\"outlinewidth\": 0, \"ticks\": \"\"}}, \"type\": \"scattermapbox\"}], \"scatterpolar\": [{\"marker\": {\"colorbar\": {\"outlinewidth\": 0, \"ticks\": \"\"}}, \"type\": \"scatterpolar\"}], \"scatterpolargl\": [{\"marker\": {\"colorbar\": {\"outlinewidth\": 0, \"ticks\": \"\"}}, \"type\": \"scatterpolargl\"}], \"scatterternary\": [{\"marker\": {\"colorbar\": {\"outlinewidth\": 0, \"ticks\": \"\"}}, \"type\": \"scatterternary\"}], \"surface\": [{\"colorbar\": {\"outlinewidth\": 0, \"ticks\": \"\"}, \"colorscale\": [[0.0, \"#0d0887\"], [0.1111111111111111, \"#46039f\"], [0.2222222222222222, \"#7201a8\"], [0.3333333333333333, \"#9c179e\"], [0.4444444444444444, \"#bd3786\"], [0.5555555555555556, \"#d8576b\"], [0.6666666666666666, \"#ed7953\"], [0.7777777777777778, \"#fb9f3a\"], [0.8888888888888888, \"#fdca26\"], [1.0, \"#f0f921\"]], \"type\": \"surface\"}], \"table\": [{\"cells\": {\"fill\": {\"color\": \"#EBF0F8\"}, \"line\": {\"color\": \"white\"}}, \"header\": {\"fill\": {\"color\": \"#C8D4E3\"}, \"line\": {\"color\": \"white\"}}, \"type\": \"table\"}]}, \"layout\": {\"annotationdefaults\": {\"arrowcolor\": \"#2a3f5f\", \"arrowhead\": 0, \"arrowwidth\": 1}, \"colorscale\": {\"diverging\": [[0, \"#8e0152\"], [0.1, \"#c51b7d\"], [0.2, \"#de77ae\"], [0.3, \"#f1b6da\"], [0.4, \"#fde0ef\"], [0.5, \"#f7f7f7\"], [0.6, \"#e6f5d0\"], [0.7, \"#b8e186\"], [0.8, \"#7fbc41\"], [0.9, \"#4d9221\"], [1, \"#276419\"]], \"sequential\": [[0.0, \"#0d0887\"], [0.1111111111111111, \"#46039f\"], [0.2222222222222222, \"#7201a8\"], [0.3333333333333333, \"#9c179e\"], [0.4444444444444444, \"#bd3786\"], [0.5555555555555556, \"#d8576b\"], [0.6666666666666666, \"#ed7953\"], [0.7777777777777778, \"#fb9f3a\"], [0.8888888888888888, \"#fdca26\"], [1.0, \"#f0f921\"]], \"sequentialminus\": [[0.0, \"#0d0887\"], [0.1111111111111111, \"#46039f\"], [0.2222222222222222, \"#7201a8\"], [0.3333333333333333, \"#9c179e\"], [0.4444444444444444, \"#bd3786\"], [0.5555555555555556, \"#d8576b\"], [0.6666666666666666, \"#ed7953\"], [0.7777777777777778, \"#fb9f3a\"], [0.8888888888888888, \"#fdca26\"], [1.0, \"#f0f921\"]]}, \"colorway\": [\"#636efa\", \"#EF553B\", \"#00cc96\", \"#ab63fa\", \"#FFA15A\", \"#19d3f3\", \"#FF6692\", \"#B6E880\", \"#FF97FF\", \"#FECB52\"], \"font\": {\"color\": \"#2a3f5f\"}, \"geo\": {\"bgcolor\": \"white\", \"lakecolor\": \"white\", \"landcolor\": \"#E5ECF6\", \"showlakes\": true, \"showland\": true, \"subunitcolor\": \"white\"}, \"hoverlabel\": {\"align\": \"left\"}, \"hovermode\": \"closest\", \"mapbox\": {\"style\": \"light\"}, \"paper_bgcolor\": \"white\", \"plot_bgcolor\": \"#E5ECF6\", \"polar\": {\"angularaxis\": {\"gridcolor\": \"white\", \"linecolor\": \"white\", \"ticks\": \"\"}, \"bgcolor\": \"#E5ECF6\", \"radialaxis\": {\"gridcolor\": \"white\", \"linecolor\": \"white\", \"ticks\": \"\"}}, \"scene\": {\"xaxis\": {\"backgroundcolor\": \"#E5ECF6\", \"gridcolor\": \"white\", \"gridwidth\": 2, \"linecolor\": \"white\", \"showbackground\": true, \"ticks\": \"\", \"zerolinecolor\": \"white\"}, \"yaxis\": {\"backgroundcolor\": \"#E5ECF6\", \"gridcolor\": \"white\", \"gridwidth\": 2, \"linecolor\": \"white\", \"showbackground\": true, \"ticks\": \"\", \"zerolinecolor\": \"white\"}, \"zaxis\": {\"backgroundcolor\": \"#E5ECF6\", \"gridcolor\": \"white\", \"gridwidth\": 2, \"linecolor\": \"white\", \"showbackground\": true, \"ticks\": \"\", \"zerolinecolor\": \"white\"}}, \"shapedefaults\": {\"line\": {\"color\": \"#2a3f5f\"}}, \"ternary\": {\"aaxis\": {\"gridcolor\": \"white\", \"linecolor\": \"white\", \"ticks\": \"\"}, \"baxis\": {\"gridcolor\": \"white\", \"linecolor\": \"white\", \"ticks\": \"\"}, \"bgcolor\": \"#E5ECF6\", \"caxis\": {\"gridcolor\": \"white\", \"linecolor\": \"white\", \"ticks\": \"\"}}, \"title\": {\"x\": 0.05}, \"xaxis\": {\"automargin\": true, \"gridcolor\": \"white\", \"linecolor\": \"white\", \"ticks\": \"\", \"zerolinecolor\": \"white\", \"zerolinewidth\": 2}, \"yaxis\": {\"automargin\": true, \"gridcolor\": \"white\", \"linecolor\": \"white\", \"ticks\": \"\", \"zerolinecolor\": \"white\", \"zerolinewidth\": 2}}}, \"xaxis\": {\"anchor\": \"y\", \"domain\": [0.0, 0.98], \"title\": {\"text\": \"Date\"}}, \"yaxis\": {\"anchor\": \"x\", \"domain\": [0.0, 1.0], \"title\": {\"text\": \"otp\"}}},\n",
              "                        {\"responsive\": true}\n",
              "                    ).then(function(){\n",
              "                            \n",
              "var gd = document.getElementById('c0a1b3c2-40a6-49a7-80ff-585155dacad3');\n",
              "var x = new MutationObserver(function (mutations, observer) {{\n",
              "        var display = window.getComputedStyle(gd).display;\n",
              "        if (!display || display === 'none') {{\n",
              "            console.log([gd, 'removed!']);\n",
              "            Plotly.purge(gd);\n",
              "            observer.disconnect();\n",
              "        }}\n",
              "}});\n",
              "\n",
              "// Listen for the removal of the full notebook cells\n",
              "var notebookContainer = gd.closest('#notebook-container');\n",
              "if (notebookContainer) {{\n",
              "    x.observe(notebookContainer, {childList: true});\n",
              "}}\n",
              "\n",
              "// Listen for the clearing of the current output cell\n",
              "var outputEl = gd.closest('.output');\n",
              "if (outputEl) {{\n",
              "    x.observe(outputEl, {childList: true});\n",
              "}}\n",
              "\n",
              "                        })\n",
              "                };\n",
              "                \n",
              "            </script>\n",
              "        </div>\n",
              "</body>\n",
              "</html>"
            ]
          },
          "metadata": {
            "tags": []
          }
        }
      ]
    },
    {
      "cell_type": "code",
      "metadata": {
        "id": "gq9kjXSARxqM",
        "colab_type": "code",
        "colab": {}
      },
      "source": [
        "\n",
        "otp=qf1_data[qf1_data[\"Act_Time\"] == \"Sched_Time\"]\n",
        "\n",
        "\n"
      ],
      "execution_count": 0,
      "outputs": []
    }
  ]
}