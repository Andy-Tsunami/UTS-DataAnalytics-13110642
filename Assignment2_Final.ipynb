{
  "nbformat": 4,
  "nbformat_minor": 0,
  "metadata": {
    "colab": {
      "name": "Assignment2-Final.ipynb",
      "provenance": [],
      "include_colab_link": true
    },
    "kernelspec": {
      "name": "python3",
      "display_name": "Python 3"
    }
  },
  "cells": [
    {
      "cell_type": "markdown",
      "metadata": {
        "id": "view-in-github",
        "colab_type": "text"
      },
      "source": [
        "<a href=\"https://colab.research.google.com/github/Andy-Tsunami/UTS-DataAnalytics-13110642/blob/master/Assignment2_Final.ipynb\" target=\"_parent\"><img src=\"https://colab.research.google.com/assets/colab-badge.svg\" alt=\"Open In Colab\"/></a>"
      ]
    },
    {
      "cell_type": "markdown",
      "metadata": {
        "id": "edj8esJd6BQF",
        "colab_type": "text"
      },
      "source": [
        "\n",
        "#Assignment 2 - Pratical Machine Learning Project\n",
        "\n",
        "###Advanced Data Analytics\n",
        "###Kai-Chieh Chang - 13310115\n",
        "###Andy Tsui - 13110642"
      ]
    },
    {
      "cell_type": "markdown",
      "metadata": {
        "id": "hfULUxIR6A69",
        "colab_type": "text"
      },
      "source": [
        "##Introduction\n",
        "\n",
        "\n",
        "\n",
        "\n",
        "https://github.com/Andy-Tsunami/UTS-DataAnalytics-13110642/blob/master/Assignment2.ipynb. "
      ]
    },
    {
      "cell_type": "markdown",
      "metadata": {
        "id": "gYVjW7JA7HQ-",
        "colab_type": "text"
      },
      "source": [
        "##Exploration"
      ]
    },
    {
      "cell_type": "markdown",
      "metadata": {
        "id": "NSiEbuYW7JgR",
        "colab_type": "text"
      },
      "source": [
        "##Methodology"
      ]
    },
    {
      "cell_type": "code",
      "metadata": {
        "id": "YDp4Wynq7NVK",
        "colab_type": "code",
        "colab": {}
      },
      "source": [
        ""
      ],
      "execution_count": 0,
      "outputs": []
    },
    {
      "cell_type": "markdown",
      "metadata": {
        "id": "FnFOHLJ47Kkr",
        "colab_type": "text"
      },
      "source": [
        "##Evaluation"
      ]
    },
    {
      "cell_type": "markdown",
      "metadata": {
        "id": "CvYFcrUe7R3n",
        "colab_type": "text"
      },
      "source": [
        "##Conclusion"
      ]
    },
    {
      "cell_type": "markdown",
      "metadata": {
        "id": "BRNIIMkL7U_k",
        "colab_type": "text"
      },
      "source": [
        "##Ethical"
      ]
    }
  ]
}